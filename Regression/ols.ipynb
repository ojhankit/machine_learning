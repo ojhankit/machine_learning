{
 "cells": [
  {
   "cell_type": "code",
   "execution_count": null,
   "metadata": {},
   "outputs": [],
   "source": [
    "import pandas as pd\n",
    "import numpy as np\n",
    "import matplotlib.pyplot as plt\n",
    "%matplotlib inline"
   ]
  },
  {
   "cell_type": "code",
   "execution_count": null,
   "metadata": {},
   "outputs": [],
   "source": [
    "ice_cream_sale = pd.read_csv(\"../data_ML/Ice Cream Sales - temperatures.csv\")\n",
    "ice_cream_sale"
   ]
  },
  {
   "cell_type": "code",
   "execution_count": null,
   "metadata": {},
   "outputs": [],
   "source": [
    "ice_cream_sale.head"
   ]
  },
  {
   "cell_type": "code",
   "execution_count": null,
   "metadata": {},
   "outputs": [],
   "source": [
    "ice_cream_sale.info"
   ]
  },
  {
   "cell_type": "code",
   "execution_count": null,
   "metadata": {},
   "outputs": [],
   "source": [
    "ice_cream_sale.isna().sum()"
   ]
  },
  {
   "cell_type": "code",
   "execution_count": null,
   "metadata": {},
   "outputs": [],
   "source": [
    "ice_cream_sale.columns"
   ]
  },
  {
   "cell_type": "markdown",
   "metadata": {},
   "source": [
    "# calculation for m\n"
   ]
  },
  {
   "cell_type": "code",
   "execution_count": null,
   "metadata": {},
   "outputs": [],
   "source": [
    "\n",
    "# ice_cream_sale_mean = ice_cream_sale[\"Temperature\"].mean()\n",
    "# ice_cream_sale_mean\n",
    "X = ice_cream_sale[\"Temperature\"]\n",
    "X\n",
    "Y = ice_cream_sale[\"Ice Cream Profits\"]\n",
    "Y"
   ]
  },
  {
   "cell_type": "code",
   "execution_count": null,
   "metadata": {},
   "outputs": [],
   "source": [
    "X_mean = X.mean()\n",
    "X_mean\n",
    "Y_mean = Y.mean()\n",
    "Y_mean\n"
   ]
  },
  {
   "cell_type": "code",
   "execution_count": null,
   "metadata": {},
   "outputs": [],
   "source": [
    "# for value in ice_cream_sale[\"Temperature\"].items():\n",
    "#     # Perform operations on each value\n",
    "#     print(f'Value: {value}')"
   ]
  },
  {
   "cell_type": "markdown",
   "metadata": {},
   "source": [
    "Iterate Over DataFrame\n"
   ]
  },
  {
   "cell_type": "code",
   "execution_count": 25,
   "metadata": {},
   "outputs": [
    {
     "name": "stdout",
     "output_type": "stream",
     "text": [
      "1.1920089289728377 -33.698166002474956\n"
     ]
    }
   ],
   "source": [
    "X_mean = ice_cream_sale['Temperature'].mean()\n",
    "Y_mean = ice_cream_sale['Ice Cream Profits'].mean()\n",
    "\n",
    "\n",
    "numerator = 0\n",
    "for index, row in ice_cream_sale.iterrows():\n",
    "    temp = row['Temperature']\n",
    "    sale = row['Ice Cream Profits']\n",
    "    X_1 = temp - X_mean\n",
    "    Y_1 = sale - Y_mean\n",
    "    \n",
    "    prod = X_1 * Y_1\n",
    "    \n",
    "    numerator += prod\n",
    "\n",
    "denominator = 0\n",
    "for index, row in ice_cream_sale.iterrows():\n",
    "    temp = row['Temperature']\n",
    "    val = temp - X_mean\n",
    "    denominator += val**2\n",
    "\n",
    "M = numerator / denominator\n",
    "B = Y_mean - (M * X_mean)\n",
    "\n",
    "print(M,B)\n",
    "    "
   ]
  },
  {
   "cell_type": "code",
   "execution_count": 26,
   "metadata": {},
   "outputs": [
    {
     "name": "stdout",
     "output_type": "stream",
     "text": [
      "Mean Squared Error: nan\n"
     ]
    }
   ],
   "source": [
    "# Define features (X) and target variable (y)\n",
    "X = ice_cream_sale[['Temperature']]\n",
    "y = ice_cream_sale['Ice Cream Profits']\n",
    "\n",
    "# Split the data into training and testing sets manually (e.g., 80% training, 20% testing)\n",
    "train_size = int(0.8 * len(ice_cream_sale))\n",
    "X_train, X_test = X[:train_size], X[train_size:]\n",
    "y_train, y_test = y[:train_size], y[train_size:]\n",
    "\n",
    "# Calculate means\n",
    "X_mean = X_train.mean()\n",
    "Y_mean = y_train.mean()\n",
    "\n",
    "# Calculate slope (M) and intercept (b) manually using training data\n",
    "numerator = 0\n",
    "denominator = 0\n",
    "for i in range(len(X_train)):\n",
    "    temp = X_train.iloc[i]['Temperature']\n",
    "    sale = y_train.iloc[i]\n",
    "    \n",
    "    X_1 = temp - X_mean\n",
    "    Y_1 = sale - Y_mean\n",
    "    \n",
    "    numerator += X_1 * Y_1\n",
    "    denominator += X_1 ** 2\n",
    "\n",
    "M = numerator / denominator\n",
    "b = Y_mean - M * X_mean\n",
    "\n",
    "# Predict using the test set\n",
    "y_pred = M * X_test + b\n",
    "\n",
    "# Evaluate the model (e.g., using Mean Squared Error)\n",
    "mse = np.mean((y_pred - y_test) ** 2)\n",
    "print(\"Mean Squared Error:\", mse)"
   ]
  },
  {
   "cell_type": "code",
   "execution_count": null,
   "metadata": {},
   "outputs": [],
   "source": []
  }
 ],
 "metadata": {
  "kernelspec": {
   "display_name": "Python 3",
   "language": "python",
   "name": "python3"
  },
  "language_info": {
   "codemirror_mode": {
    "name": "ipython",
    "version": 3
   },
   "file_extension": ".py",
   "mimetype": "text/x-python",
   "name": "python",
   "nbconvert_exporter": "python",
   "pygments_lexer": "ipython3",
   "version": "3.12.0"
  }
 },
 "nbformat": 4,
 "nbformat_minor": 2
}
